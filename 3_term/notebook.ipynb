{
 "cells": [
  {
   "cell_type": "markdown",
   "metadata": {},
   "source": [
    "#### Task 1, for while"
   ]
  },
  {
   "cell_type": "markdown",
   "metadata": {},
   "source": [
    "Задано натуральне число n. Обчислити: S = 1•2 + 2•3•4 + ... + n•(n+1)•...•2n"
   ]
  },
  {
   "cell_type": "code",
   "execution_count": 1,
   "metadata": {},
   "outputs": [],
   "source": [
    "n = int(input(\"Enter n: \")) # Input n"
   ]
  },
  {
   "cell_type": "code",
   "execution_count": 2,
   "metadata": {},
   "outputs": [
    {
     "name": "stdout",
     "output_type": "stream",
     "text": [
      "S = 386\n"
     ]
    }
   ],
   "source": [
    "s = 0 # Sum\n",
    "j = 1\n",
    "for i in range(1, n+1):\n",
    "    temp = i # Product on iteration\n",
    "    k = 1\n",
    "    while k <= j:\n",
    "        temp *= (i + k)\n",
    "        k += 1\n",
    "    s += temp\n",
    "    j += 1\n",
    "\n",
    "print(f\"S = {s}\")"
   ]
  },
  {
   "cell_type": "markdown",
   "metadata": {},
   "source": [
    "Перевірка зі значеннями 4 та 6"
   ]
  },
  {
   "cell_type": "code",
   "execution_count": 17,
   "metadata": {},
   "outputs": [
    {
     "name": "stdout",
     "output_type": "stream",
     "text": [
      "4: 7106\n",
      "6: 4149986\n"
     ]
    }
   ],
   "source": [
    "print(\"4:\", 1*2 + 2*3*4 + 3*4*5*6 + 4*5*6*7*8) # Validation with value 4\n",
    "print(\"6:\", 1*2 + 2*3*4 + 3*4*5*6 + 4*5*6*7*8 + 5*6*7*8*9*10 + 6*7*8*9*10*11*12) # Validation with value 6"
   ]
  },
  {
   "cell_type": "markdown",
   "metadata": {},
   "source": [
    "#### Task 2, list"
   ]
  },
  {
   "cell_type": "markdown",
   "metadata": {},
   "source": [
    "Дано масив дійсних чисел розмірності n. Обчислити значення виразу: $$nx_0 + (n-1)x_1 + ... + 2x_{n-2} + x_{n-1}$$ "
   ]
  },
  {
   "cell_type": "code",
   "execution_count": 7,
   "metadata": {},
   "outputs": [],
   "source": [
    "n = int(input(\"Enter n:\"))\n",
    "x = [ int(input(i)) for i in range(n) ]"
   ]
  },
  {
   "cell_type": "code",
   "execution_count": 14,
   "metadata": {},
   "outputs": [
    {
     "name": "stdout",
     "output_type": "stream",
     "text": [
      "Array: [1, 2, 3]\n",
      "S = 10\n"
     ]
    }
   ],
   "source": [
    "s = 0\n",
    "for i, num in enumerate(x):\n",
    "    s += (n - i) * num\n",
    "print(f\"Array: {x}\")\n",
    "print(f\"S = {s}\")"
   ]
  },
  {
   "cell_type": "markdown",
   "metadata": {},
   "source": [
    "#### Task 3, string"
   ]
  },
  {
   "cell_type": "markdown",
   "metadata": {},
   "source": [
    "Дано послідовність слів, відокремлених пропусками. Знайти найдовше слово. Визначити, скільки разів воно зустрічається у тексті."
   ]
  },
  {
   "cell_type": "code",
   "execution_count": 15,
   "metadata": {},
   "outputs": [
    {
     "name": "stdout",
     "output_type": "stream",
     "text": [
      "The longest word: abcdef\n",
      "Count of word: 4\n"
     ]
    }
   ],
   "source": [
    "s = input(\"Enter string:\").lower().replace('.', '').replace(',', '')\n",
    "longest_word = max(s.split(), key=len)\n",
    "print(f\"The longest word: {longest_word}\\nCount of word: {s.count(longest_word)}\")\n",
    "\n",
    "# ab abcd abc abcdef abcd abcdef abcdef dcba abcdef"
   ]
  },
  {
   "cell_type": "markdown",
   "metadata": {},
   "source": [
    "#### Task 4, matrix\n"
   ]
  },
  {
   "cell_type": "markdown",
   "metadata": {},
   "source": [
    "Дана дійсна квадратна матриця порядку $n$. Побудувати послідовність $b_0, ..., b_{n-1}$ з нулів та одиниць, в якій $b_i$ рівні $1$ тоді і тільки тоді, коли елементи $i$-го стовпчика матриці утворюють зростаючу послідовність."
   ]
  },
  {
   "cell_type": "code",
   "execution_count": 38,
   "metadata": {},
   "outputs": [
    {
     "ename": "IndexError",
     "evalue": "list index out of range",
     "output_type": "error",
     "traceback": [
      "\u001b[1;31m---------------------------------------------------------------------------\u001b[0m",
      "\u001b[1;31mIndexError\u001b[0m                                Traceback (most recent call last)",
      "\u001b[1;32md:\\Study\\Github\\lnu_programming\\3_term\\notebook.ipynb Ячейка 16\u001b[0m in \u001b[0;36m<cell line: 7>\u001b[1;34m()\u001b[0m\n\u001b[0;32m      <a href='vscode-notebook-cell:/d%3A/Study/Github/lnu_programming/3_term/notebook.ipynb#X26sZmlsZQ%3D%3D?line=6'>7</a>\u001b[0m \u001b[39mfor\u001b[39;00m i \u001b[39min\u001b[39;00m \u001b[39mrange\u001b[39m(n):\n\u001b[0;32m      <a href='vscode-notebook-cell:/d%3A/Study/Github/lnu_programming/3_term/notebook.ipynb#X26sZmlsZQ%3D%3D?line=7'>8</a>\u001b[0m     \u001b[39mfor\u001b[39;00m j \u001b[39min\u001b[39;00m \u001b[39mrange\u001b[39m(n):\n\u001b[1;32m----> <a href='vscode-notebook-cell:/d%3A/Study/Github/lnu_programming/3_term/notebook.ipynb#X26sZmlsZQ%3D%3D?line=8'>9</a>\u001b[0m         \u001b[39mif\u001b[39;00m col[i][j] \u001b[39m<\u001b[39m col[i][j\u001b[39m+\u001b[39;49m\u001b[39m1\u001b[39;49m]:\n\u001b[0;32m     <a href='vscode-notebook-cell:/d%3A/Study/Github/lnu_programming/3_term/notebook.ipynb#X26sZmlsZQ%3D%3D?line=9'>10</a>\u001b[0m             b\u001b[39m.\u001b[39mappend(\u001b[39m1\u001b[39m)\n\u001b[0;32m     <a href='vscode-notebook-cell:/d%3A/Study/Github/lnu_programming/3_term/notebook.ipynb#X26sZmlsZQ%3D%3D?line=10'>11</a>\u001b[0m         \u001b[39melse\u001b[39;00m:\n",
      "\u001b[1;31mIndexError\u001b[0m: list index out of range"
     ]
    }
   ],
   "source": [
    "n = int(input(\"Enter n:\"))\n",
    "matrix = [ [ int(input()) for j in range(n) ] for i in range(n) ]\n",
    "    \n",
    "b = []\n",
    "col = [ [ matrix[j][i] for j in range(n) ] for i in range(n) ] \n",
    "\n",
    "for i in range(n):\n",
    "    for j in range(n):\n",
    "        if col[i][j] < col[i][j+1]:\n",
    "            b.append(1)\n",
    "        else:\n",
    "            b.append(0)\n",
    "            \n",
    "b"
   ]
  }
 ],
 "metadata": {
  "kernelspec": {
   "display_name": "Python 3.10.2 64-bit",
   "language": "python",
   "name": "python3"
  },
  "language_info": {
   "codemirror_mode": {
    "name": "ipython",
    "version": 3
   },
   "file_extension": ".py",
   "mimetype": "text/x-python",
   "name": "python",
   "nbconvert_exporter": "python",
   "pygments_lexer": "ipython3",
   "version": "3.10.2"
  },
  "orig_nbformat": 4,
  "vscode": {
   "interpreter": {
    "hash": "26de051ba29f2982a8de78e945f0abaf191376122a1563185a90213a26c5da77"
   }
  }
 },
 "nbformat": 4,
 "nbformat_minor": 2
}
