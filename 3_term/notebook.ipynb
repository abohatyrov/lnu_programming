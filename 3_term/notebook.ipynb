{
 "cells": [
  {
   "cell_type": "markdown",
   "metadata": {},
   "source": [
    "#### Task 1, for while"
   ]
  },
  {
   "cell_type": "markdown",
   "metadata": {},
   "source": [
    "Задано натуральне число n. Обчислити: S = 1•2 + 2•3•4 + ... + n•(n+1)•...•2n"
   ]
  },
  {
   "cell_type": "code",
   "execution_count": 15,
   "metadata": {},
   "outputs": [],
   "source": [
    "n = int(input(\"Enter n: \")) # Input n"
   ]
  },
  {
   "cell_type": "code",
   "execution_count": 18,
   "metadata": {},
   "outputs": [
    {
     "name": "stdout",
     "output_type": "stream",
     "text": [
      "S = 4149986\n"
     ]
    }
   ],
   "source": [
    "s = 0 # Sum\n",
    "j = 1\n",
    "for i in range(1, n+1):\n",
    "    temp = i # Product on iteration\n",
    "    k = 1\n",
    "    while k <= j:\n",
    "        temp *= (i + k)\n",
    "        k += 1\n",
    "    s += temp\n",
    "    j += 1\n",
    "\n",
    "print(f\"S = {s}\")"
   ]
  },
  {
   "cell_type": "markdown",
   "metadata": {},
   "source": [
    "Перевірка зі значеннями 4 та 6"
   ]
  },
  {
   "cell_type": "code",
   "execution_count": 17,
   "metadata": {},
   "outputs": [
    {
     "name": "stdout",
     "output_type": "stream",
     "text": [
      "4: 7106\n",
      "6: 4149986\n"
     ]
    }
   ],
   "source": [
    "print(\"4:\", 1*2 + 2*3*4 + 3*4*5*6 + 4*5*6*7*8) # Validation with value 4\n",
    "print(\"6:\", 1*2 + 2*3*4 + 3*4*5*6 + 4*5*6*7*8 + 5*6*7*8*9*10 + 6*7*8*9*10*11*12) # Validation with value 6"
   ]
  }
 ],
 "metadata": {
  "kernelspec": {
   "display_name": "Python 3.10.2 64-bit",
   "language": "python",
   "name": "python3"
  },
  "language_info": {
   "codemirror_mode": {
    "name": "ipython",
    "version": 3
   },
   "file_extension": ".py",
   "mimetype": "text/x-python",
   "name": "python",
   "nbconvert_exporter": "python",
   "pygments_lexer": "ipython3",
   "version": "3.10.2"
  },
  "orig_nbformat": 4,
  "vscode": {
   "interpreter": {
    "hash": "26de051ba29f2982a8de78e945f0abaf191376122a1563185a90213a26c5da77"
   }
  }
 },
 "nbformat": 4,
 "nbformat_minor": 2
}
