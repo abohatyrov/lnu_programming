{
 "cells": [
  {
   "cell_type": "markdown",
   "metadata": {},
   "source": [
    "#### Imported labs"
   ]
  },
  {
   "cell_type": "code",
   "execution_count": 2,
   "metadata": {},
   "outputs": [],
   "source": [
    "import re"
   ]
  },
  {
   "cell_type": "markdown",
   "metadata": {},
   "source": [
    "#### Task 1, for while"
   ]
  },
  {
   "cell_type": "markdown",
   "metadata": {},
   "source": [
    "Задано натуральне число n. Обчислити: S = 1•2 + 2•3•4 + ... + n•(n+1)•...•2n"
   ]
  },
  {
   "cell_type": "code",
   "execution_count": null,
   "metadata": {},
   "outputs": [],
   "source": [
    "n = int(input(\"Enter n: \")) # Input n"
   ]
  },
  {
   "cell_type": "code",
   "execution_count": null,
   "metadata": {},
   "outputs": [],
   "source": [
    "s = 0 # Sum\n",
    "j = 1\n",
    "for i in range(1, n+1):\n",
    "    temp = i # Product on iteration\n",
    "    k = 1\n",
    "    while k <= j:\n",
    "        temp *= (i + k)\n",
    "        k += 1\n",
    "    s += temp\n",
    "    j += 1\n",
    "\n",
    "print(f\"S = {s}\")"
   ]
  },
  {
   "cell_type": "markdown",
   "metadata": {},
   "source": [
    "Перевірка зі значеннями 4 та 6"
   ]
  },
  {
   "cell_type": "code",
   "execution_count": null,
   "metadata": {},
   "outputs": [],
   "source": [
    "print(\"4:\", 1*2 + 2*3*4 + 3*4*5*6 + 4*5*6*7*8) # Validation with value 4\n",
    "print(\"6:\", 1*2 + 2*3*4 + 3*4*5*6 + 4*5*6*7*8 + 5*6*7*8*9*10 + 6*7*8*9*10*11*12) # Validation with value 6"
   ]
  },
  {
   "cell_type": "markdown",
   "metadata": {},
   "source": [
    "#### Task 2, list"
   ]
  },
  {
   "cell_type": "markdown",
   "metadata": {},
   "source": [
    "Дано масив дійсних чисел розмірності n. Обчислити значення виразу: $$nx_0 + (n-1)x_1 + ... + 2x_{n-2} + x_{n-1}$$ "
   ]
  },
  {
   "cell_type": "code",
   "execution_count": null,
   "metadata": {},
   "outputs": [],
   "source": [
    "n = int(input(\"Enter n:\"))\n",
    "x = [ int(input(i)) for i in range(n) ]"
   ]
  },
  {
   "cell_type": "code",
   "execution_count": null,
   "metadata": {},
   "outputs": [],
   "source": [
    "s = 0\n",
    "for i, num in enumerate(x):\n",
    "    s += (n - i) * num\n",
    "print(f\"Array: {x}\")\n",
    "print(f\"S = {s}\")"
   ]
  },
  {
   "cell_type": "markdown",
   "metadata": {},
   "source": [
    "#### Task 3, string"
   ]
  },
  {
   "cell_type": "markdown",
   "metadata": {},
   "source": [
    "Дано послідовність слів, відокремлених пропусками. Знайти найдовше слово. Визначити, скільки разів воно зустрічається у тексті."
   ]
  },
  {
   "cell_type": "code",
   "execution_count": 9,
   "metadata": {},
   "outputs": [
    {
     "name": "stdout",
     "output_type": "stream",
     "text": [
      "The longest word: abcdefgh\n",
      "Count of word: 4\n"
     ]
    }
   ],
   "source": [
    "s = re.sub(r'[.,():;!?\"]', '', input(\"Enter string:\").lower())\n",
    "longest_word = max(s.split(), key=len)\n",
    "\n",
    "print(f\"The longest word: {longest_word}\\nCount of word: {s.count(longest_word)}\")"
   ]
  },
  {
   "cell_type": "markdown",
   "metadata": {},
   "source": [
    "ab abcd: abc abcdefgh, abcd abcdefgh. abcdefgh? dcba abcdefgh"
   ]
  },
  {
   "cell_type": "markdown",
   "metadata": {},
   "source": [
    "#### Task 4, matrix\n"
   ]
  },
  {
   "cell_type": "markdown",
   "metadata": {},
   "source": [
    "Дана дійсна квадратна матриця порядку $n$. Побудувати послідовність $b_0, ..., b_{n-1}$ з нулів та одиниць, в якій $b_i$ рівні $1$ тоді і тільки тоді, коли елементи $i$-го стовпчика матриці утворюють зростаючу послідовність."
   ]
  },
  {
   "cell_type": "code",
   "execution_count": 12,
   "metadata": {},
   "outputs": [
    {
     "name": "stdout",
     "output_type": "stream",
     "text": [
      "Your matrix:\n",
      "1 3 5 6\n",
      "2 2 7 0\n",
      "4 2 8 9\n",
      "9 9 9 9\n",
      "\n",
      "b_0 ... b_n-1: 1 0 1 0 1 0 1 0 1 0 1 0 1 0 1 0 "
     ]
    }
   ],
   "source": [
    "n = int(input(\"Enter n:\"))\n",
    "input_list = [ int(a) for a in input().split() ]\n",
    "matrix = [ [ input_list[i*n+j] for j in range(n) ] for i in range(n) ]\n",
    "\n",
    "print(\"Your matrix:\")\n",
    "for row in matrix:\n",
    "    \n",
    "    print(' '.join([ str(i) for i in row ]))\n",
    "    \n",
    "b = []\n",
    "for j in range(n):\n",
    "        \n",
    "    col = [ row[j] for row in matrix ]\n",
    "        \n",
    "    if sorted(col) == col:\n",
    "        b.append(1)\n",
    "    else:\n",
    "       b.append(0)\n",
    "            \n",
    "print(\"\\nb_0 ... b_n-1:\", end=' ')\n",
    "for i in b:\n",
    "    print(i, end=' ')"
   ]
  },
  {
   "cell_type": "markdown",
   "metadata": {},
   "source": [
    "1 3 5 6 2 2 7 0 4 2 8 9 9 9 9 9"
   ]
  },
  {
   "cell_type": "markdown",
   "metadata": {},
   "source": [
    "4 3 2 1 5 3 3 4 1 4 5 7 2 5 7 9"
   ]
  },
  {
   "cell_type": "markdown",
   "metadata": {},
   "source": [
    "#### Task 5, dictionary"
   ]
  },
  {
   "cell_type": "markdown",
   "metadata": {},
   "source": [
    "Задано масив записів, що містить дані про працівників підприємства (прізвище, посада, рік народження і зарплатня). Вивести інформацію про всіх бухгалтерів підприємства. Обчислити середню заробітну плату по підприємству."
   ]
  },
  {
   "cell_type": "code",
   "execution_count": 4,
   "metadata": {},
   "outputs": [],
   "source": [
    "def input_employee():\n",
    "    employee = {\n",
    "        \"last_name\": input(\"Last name\"),\n",
    "        \"position\": input(\"Position\"),\n",
    "        \"year_of_birth\": int(input(\"Year of birth\")),\n",
    "        \"salary\": float(input(\"Salary\"))\n",
    "    }\n",
    "    return employee\n",
    "\n",
    "def output(dictionary):\n",
    "    print(\"Last name: \" + dictionary[\"last_name\"])\n",
    "    print(\"Position: \" + dictionary[\"position\"])\n",
    "    print(\"Year of birth: \" + str(dictionary[\"year_of_birth\"]))\n",
    "    print(\"Salary: \" + str(dictionary[\"salary\"]) + \"\\n\")"
   ]
  },
  {
   "cell_type": "code",
   "execution_count": 5,
   "metadata": {},
   "outputs": [],
   "source": [
    "employees = []\n",
    "\n",
    "while input(\"Add new? (y/n)\") != 'n':\n",
    "    \n",
    "    employees.append(input_employee())"
   ]
  },
  {
   "cell_type": "markdown",
   "metadata": {},
   "source": [
    "Вивід інформації про всіх співробітників"
   ]
  },
  {
   "cell_type": "code",
   "execution_count": 13,
   "metadata": {},
   "outputs": [
    {
     "name": "stdout",
     "output_type": "stream",
     "text": [
      "Last name: Deer\n",
      "Position: Accountant\n",
      "Year of birth: 1995\n",
      "Salary: 600.0\n",
      "\n",
      "Last name: James\n",
      "Position: Data Analyst\n",
      "Year of birth: 2001\n",
      "Salary: 400.0\n",
      "\n",
      "Last name: Robbie\n",
      "Position: Accountant\n",
      "Year of birth: 1991\n",
      "Salary: 2100.0\n",
      "\n",
      "Last name: Carlos\n",
      "Position: Software engineer\n",
      "Year of birth: 1989\n",
      "Salary: 4000.0\n",
      "\n"
     ]
    }
   ],
   "source": [
    "for emp in employees:\n",
    "    \n",
    "    output(emp)"
   ]
  },
  {
   "cell_type": "markdown",
   "metadata": {},
   "source": [
    "Вивід інформації про всіх бухгалтерів"
   ]
  },
  {
   "cell_type": "code",
   "execution_count": 14,
   "metadata": {},
   "outputs": [
    {
     "name": "stdout",
     "output_type": "stream",
     "text": [
      "Last name: Deer\n",
      "Position: Accountant\n",
      "Year of birth: 1995\n",
      "Salary: 600.0\n",
      "\n",
      "Last name: Robbie\n",
      "Position: Accountant\n",
      "Year of birth: 1991\n",
      "Salary: 2100.0\n",
      "\n"
     ]
    }
   ],
   "source": [
    "for emp in employees:\n",
    "    \n",
    "    if emp[\"position\"].lower() == \"accountant\":\n",
    "        output(emp)"
   ]
  },
  {
   "cell_type": "markdown",
   "metadata": {},
   "source": [
    "Обчислення середньої заробітньої плати по підприємству"
   ]
  },
  {
   "cell_type": "code",
   "execution_count": 15,
   "metadata": {},
   "outputs": [
    {
     "name": "stdout",
     "output_type": "stream",
     "text": [
      "Average salary: 1775.0\n"
     ]
    }
   ],
   "source": [
    "avg_salary = 0\n",
    "\n",
    "for emp in employees:\n",
    "    \n",
    "    avg_salary += emp[\"salary\"]\n",
    "\n",
    "avg_salary /= len(employees)\n",
    "print(f\"Average salary: {avg_salary}\")"
   ]
  }
 ],
 "metadata": {
  "kernelspec": {
   "display_name": "Python 3.10.2 64-bit",
   "language": "python",
   "name": "python3"
  },
  "language_info": {
   "codemirror_mode": {
    "name": "ipython",
    "version": 3
   },
   "file_extension": ".py",
   "mimetype": "text/x-python",
   "name": "python",
   "nbconvert_exporter": "python",
   "pygments_lexer": "ipython3",
   "version": "3.10.2"
  },
  "orig_nbformat": 4,
  "vscode": {
   "interpreter": {
    "hash": "26de051ba29f2982a8de78e945f0abaf191376122a1563185a90213a26c5da77"
   }
  }
 },
 "nbformat": 4,
 "nbformat_minor": 2
}
